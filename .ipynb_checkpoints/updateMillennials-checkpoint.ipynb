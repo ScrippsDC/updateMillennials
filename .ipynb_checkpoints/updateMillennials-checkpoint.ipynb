{
 "cells": [
  {
   "cell_type": "markdown",
   "metadata": {},
   "source": [
    "Updating the numbers from this story: \n",
    "\n",
    "https://highline.huffingtonpost.com/articles/en/poor-millennials/\n",
    "\n",
    "BOOMER -- 306\n",
    "\n",
    "MILLENNIAL -- 4459\n",
    "\n",
    "Hours of minimum wage work needed to pay for four years of public college\n",
    "Source: National Center for Education Statistics. Calculations based on tuition for four-year public universities from 1973-1976 and 2003-2006.\n"
   ]
  },
  {
   "cell_type": "markdown",
   "metadata": {},
   "source": [
    "Note: the most up-to-date tables don't break down colleges vs universities, and there doesn't seem to be any good reason to distinguish between the two in this context, so we will be using all 4-year public institutions with current dollars. Using the earlier data distinguishing between universities and colleges doesn't significantly change the discrepancies between this analysis and the highline analysis. \n",
    "\n",
    "SOURCES: \n",
    "\n",
    "\"Table 330.10.\tAverage undergraduate tuition and fees and room and board rates charged for full-time students in degree-granting postsecondary institutions, by level and control of institution: Selected years, 1963-64 through 2017-18\"\n",
    "https://nces.ed.gov/programs/digest/d18/tables/dt18_330.10.asp?current=yes\n",
    "Monthly minimum wage data (nonfarm workers, not seasonally adjusted) \n",
    "https://fred.stlouisfed.org/series/FEDMINNFRWG\n"
   ]
  },
  {
   "cell_type": "code",
   "execution_count": 1,
   "metadata": {},
   "outputs": [],
   "source": [
    "import pandas as pd\n",
    "import numpy as np\n",
    "import seaborn as sns\n",
    "import datetime\n",
    "\n",
    "import matplotlib.pyplot as plt\n"
   ]
  },
  {
   "cell_type": "code",
   "execution_count": 2,
   "metadata": {},
   "outputs": [
    {
     "data": {
      "text/html": [
       "<div>\n",
       "<style scoped>\n",
       "    .dataframe tbody tr th:only-of-type {\n",
       "        vertical-align: middle;\n",
       "    }\n",
       "\n",
       "    .dataframe tbody tr th {\n",
       "        vertical-align: top;\n",
       "    }\n",
       "\n",
       "    .dataframe thead th {\n",
       "        text-align: right;\n",
       "    }\n",
       "</style>\n",
       "<table border=\"1\" class=\"dataframe\">\n",
       "  <thead>\n",
       "    <tr style=\"text-align: right;\">\n",
       "      <th></th>\n",
       "      <th>starting_year</th>\n",
       "      <th>tuition_and_fees</th>\n",
       "    </tr>\n",
       "  </thead>\n",
       "  <tbody>\n",
       "    <tr>\n",
       "      <th>0</th>\n",
       "      <td>1966</td>\n",
       "      <td>302.362429</td>\n",
       "    </tr>\n",
       "    <tr>\n",
       "      <th>1</th>\n",
       "      <td>1967</td>\n",
       "      <td>310.074436</td>\n",
       "    </tr>\n",
       "    <tr>\n",
       "      <th>2</th>\n",
       "      <td>1968</td>\n",
       "      <td>321.002362</td>\n",
       "    </tr>\n",
       "    <tr>\n",
       "      <th>3</th>\n",
       "      <td>1969</td>\n",
       "      <td>358.354831</td>\n",
       "    </tr>\n",
       "    <tr>\n",
       "      <th>4</th>\n",
       "      <td>1970</td>\n",
       "      <td>393.688558</td>\n",
       "    </tr>\n",
       "  </tbody>\n",
       "</table>\n",
       "</div>"
      ],
      "text/plain": [
       "   starting_year  tuition_and_fees\n",
       "0           1966        302.362429\n",
       "1           1967        310.074436\n",
       "2           1968        321.002362\n",
       "3           1969        358.354831\n",
       "4           1970        393.688558"
      ]
     },
     "execution_count": 2,
     "metadata": {},
     "output_type": "execute_result"
    }
   ],
   "source": [
    "# load the tuition data\n",
    "data = pd.read_csv(\"4_year_public_tuition.csv\")\n",
    "data.head()\n",
    "\n",
    "#load the UNIVERSITY ONLY data for testing purposes\n",
    "#data = pd.read_csv(\"4_year_public_tuition_universities.csv\")\n",
    "#data.head()"
   ]
  },
  {
   "cell_type": "code",
   "execution_count": 3,
   "metadata": {},
   "outputs": [
    {
     "data": {
      "text/html": [
       "<div>\n",
       "<style scoped>\n",
       "    .dataframe tbody tr th:only-of-type {\n",
       "        vertical-align: middle;\n",
       "    }\n",
       "\n",
       "    .dataframe tbody tr th {\n",
       "        vertical-align: top;\n",
       "    }\n",
       "\n",
       "    .dataframe thead th {\n",
       "        text-align: right;\n",
       "    }\n",
       "</style>\n",
       "<table border=\"1\" class=\"dataframe\">\n",
       "  <thead>\n",
       "    <tr style=\"text-align: right;\">\n",
       "      <th></th>\n",
       "      <th>starting_year</th>\n",
       "      <th>tuition_and_fees</th>\n",
       "      <th>old_index</th>\n",
       "    </tr>\n",
       "  </thead>\n",
       "  <tbody>\n",
       "    <tr>\n",
       "      <th>0</th>\n",
       "      <td>1966</td>\n",
       "      <td>302.362429</td>\n",
       "      <td>0</td>\n",
       "    </tr>\n",
       "    <tr>\n",
       "      <th>1</th>\n",
       "      <td>1966</td>\n",
       "      <td>302.362429</td>\n",
       "      <td>0</td>\n",
       "    </tr>\n",
       "    <tr>\n",
       "      <th>2</th>\n",
       "      <td>1966</td>\n",
       "      <td>302.362429</td>\n",
       "      <td>0</td>\n",
       "    </tr>\n",
       "    <tr>\n",
       "      <th>3</th>\n",
       "      <td>1966</td>\n",
       "      <td>302.362429</td>\n",
       "      <td>0</td>\n",
       "    </tr>\n",
       "    <tr>\n",
       "      <th>4</th>\n",
       "      <td>1966</td>\n",
       "      <td>302.362429</td>\n",
       "      <td>0</td>\n",
       "    </tr>\n",
       "  </tbody>\n",
       "</table>\n",
       "</div>"
      ],
      "text/plain": [
       "   starting_year  tuition_and_fees  old_index\n",
       "0           1966        302.362429          0\n",
       "1           1966        302.362429          0\n",
       "2           1966        302.362429          0\n",
       "3           1966        302.362429          0\n",
       "4           1966        302.362429          0"
      ]
     },
     "execution_count": 3,
     "metadata": {},
     "output_type": "execute_result"
    }
   ],
   "source": [
    "#Add 12 months for each year\n",
    "data_months = data.loc[data.index.repeat(12)].reset_index()\n",
    "data_months[\"old_index\"] = data_months[\"index\"]\n",
    "data_months = data_months[[\"starting_year\",\"tuition_and_fees\",\"old_index\"]]\n",
    "data_months.head()"
   ]
  },
  {
   "cell_type": "code",
   "execution_count": 4,
   "metadata": {},
   "outputs": [
    {
     "data": {
      "text/html": [
       "<div>\n",
       "<style scoped>\n",
       "    .dataframe tbody tr th:only-of-type {\n",
       "        vertical-align: middle;\n",
       "    }\n",
       "\n",
       "    .dataframe tbody tr th {\n",
       "        vertical-align: top;\n",
       "    }\n",
       "\n",
       "    .dataframe thead th {\n",
       "        text-align: right;\n",
       "    }\n",
       "</style>\n",
       "<table border=\"1\" class=\"dataframe\">\n",
       "  <thead>\n",
       "    <tr style=\"text-align: right;\">\n",
       "      <th></th>\n",
       "      <th>starting_year</th>\n",
       "      <th>tuition_and_fees</th>\n",
       "      <th>old_index</th>\n",
       "      <th>month_count</th>\n",
       "    </tr>\n",
       "  </thead>\n",
       "  <tbody>\n",
       "    <tr>\n",
       "      <th>0</th>\n",
       "      <td>1966</td>\n",
       "      <td>302.362429</td>\n",
       "      <td>0</td>\n",
       "      <td>1</td>\n",
       "    </tr>\n",
       "    <tr>\n",
       "      <th>1</th>\n",
       "      <td>1966</td>\n",
       "      <td>302.362429</td>\n",
       "      <td>0</td>\n",
       "      <td>2</td>\n",
       "    </tr>\n",
       "    <tr>\n",
       "      <th>2</th>\n",
       "      <td>1966</td>\n",
       "      <td>302.362429</td>\n",
       "      <td>0</td>\n",
       "      <td>3</td>\n",
       "    </tr>\n",
       "    <tr>\n",
       "      <th>3</th>\n",
       "      <td>1966</td>\n",
       "      <td>302.362429</td>\n",
       "      <td>0</td>\n",
       "      <td>4</td>\n",
       "    </tr>\n",
       "    <tr>\n",
       "      <th>4</th>\n",
       "      <td>1966</td>\n",
       "      <td>302.362429</td>\n",
       "      <td>0</td>\n",
       "      <td>5</td>\n",
       "    </tr>\n",
       "  </tbody>\n",
       "</table>\n",
       "</div>"
      ],
      "text/plain": [
       "   starting_year  tuition_and_fees  old_index  month_count\n",
       "0           1966        302.362429          0            1\n",
       "1           1966        302.362429          0            2\n",
       "2           1966        302.362429          0            3\n",
       "3           1966        302.362429          0            4\n",
       "4           1966        302.362429          0            5"
      ]
     },
     "execution_count": 4,
     "metadata": {},
     "output_type": "execute_result"
    }
   ],
   "source": [
    "#Add a sequential index for each month\n",
    "data_months[\"month_count\"] = data_months.index%12+1\n",
    "data_months.head()"
   ]
  },
  {
   "cell_type": "code",
   "execution_count": 5,
   "metadata": {},
   "outputs": [
    {
     "data": {
      "text/html": [
       "<div>\n",
       "<style scoped>\n",
       "    .dataframe tbody tr th:only-of-type {\n",
       "        vertical-align: middle;\n",
       "    }\n",
       "\n",
       "    .dataframe tbody tr th {\n",
       "        vertical-align: top;\n",
       "    }\n",
       "\n",
       "    .dataframe thead th {\n",
       "        text-align: right;\n",
       "    }\n",
       "</style>\n",
       "<table border=\"1\" class=\"dataframe\">\n",
       "  <thead>\n",
       "    <tr style=\"text-align: right;\">\n",
       "      <th></th>\n",
       "      <th>starting_year</th>\n",
       "      <th>tuition_and_fees</th>\n",
       "      <th>old_index</th>\n",
       "      <th>month_count</th>\n",
       "      <th>tuition_monthly</th>\n",
       "      <th>true_month</th>\n",
       "      <th>true_year</th>\n",
       "      <th>month_year</th>\n",
       "    </tr>\n",
       "  </thead>\n",
       "  <tbody>\n",
       "    <tr>\n",
       "      <th>0</th>\n",
       "      <td>1966</td>\n",
       "      <td>302.362429</td>\n",
       "      <td>0</td>\n",
       "      <td>1</td>\n",
       "      <td>25.196869</td>\n",
       "      <td>6.0</td>\n",
       "      <td>1966.0</td>\n",
       "      <td>6_1966</td>\n",
       "    </tr>\n",
       "    <tr>\n",
       "      <th>1</th>\n",
       "      <td>1966</td>\n",
       "      <td>302.362429</td>\n",
       "      <td>0</td>\n",
       "      <td>2</td>\n",
       "      <td>25.196869</td>\n",
       "      <td>7.0</td>\n",
       "      <td>1966.0</td>\n",
       "      <td>7_1966</td>\n",
       "    </tr>\n",
       "    <tr>\n",
       "      <th>2</th>\n",
       "      <td>1966</td>\n",
       "      <td>302.362429</td>\n",
       "      <td>0</td>\n",
       "      <td>3</td>\n",
       "      <td>25.196869</td>\n",
       "      <td>8.0</td>\n",
       "      <td>1966.0</td>\n",
       "      <td>8_1966</td>\n",
       "    </tr>\n",
       "    <tr>\n",
       "      <th>3</th>\n",
       "      <td>1966</td>\n",
       "      <td>302.362429</td>\n",
       "      <td>0</td>\n",
       "      <td>4</td>\n",
       "      <td>25.196869</td>\n",
       "      <td>9.0</td>\n",
       "      <td>1966.0</td>\n",
       "      <td>9_1966</td>\n",
       "    </tr>\n",
       "    <tr>\n",
       "      <th>4</th>\n",
       "      <td>1966</td>\n",
       "      <td>302.362429</td>\n",
       "      <td>0</td>\n",
       "      <td>5</td>\n",
       "      <td>25.196869</td>\n",
       "      <td>10.0</td>\n",
       "      <td>1966.0</td>\n",
       "      <td>10_1966</td>\n",
       "    </tr>\n",
       "  </tbody>\n",
       "</table>\n",
       "</div>"
      ],
      "text/plain": [
       "   starting_year  tuition_and_fees  old_index  month_count  tuition_monthly  \\\n",
       "0           1966        302.362429          0            1        25.196869   \n",
       "1           1966        302.362429          0            2        25.196869   \n",
       "2           1966        302.362429          0            3        25.196869   \n",
       "3           1966        302.362429          0            4        25.196869   \n",
       "4           1966        302.362429          0            5        25.196869   \n",
       "\n",
       "   true_month  true_year month_year  \n",
       "0         6.0     1966.0     6_1966  \n",
       "1         7.0     1966.0     7_1966  \n",
       "2         8.0     1966.0     8_1966  \n",
       "3         9.0     1966.0     9_1966  \n",
       "4        10.0     1966.0    10_1966  "
      ]
     },
     "execution_count": 5,
     "metadata": {},
     "output_type": "execute_result"
    }
   ],
   "source": [
    "#Split the annual fees into 12 portions, create true month and year columns by shifting to start the years in June, create a join key\n",
    "data_months[\"tuition_monthly\"] = data_months[\"tuition_and_fees\"]/12\n",
    "data_months[\"true_month\"] = data_months[\"month_count\"].shift(-5)\n",
    "data_months[\"true_year\"] = data_months[\"starting_year\"].shift(-5)\n",
    "data_months.dropna(axis=0, subset=[\"true_month\", \"true_year\"], inplace=True)\n",
    "data_months[\"month_year\"] = data_months[\"true_month\"].astype(int).astype(str) + \"_\" + data_months[\"true_year\"].astype(int).astype(str)\n",
    "data_months.head()"
   ]
  },
  {
   "cell_type": "code",
   "execution_count": 6,
   "metadata": {},
   "outputs": [
    {
     "data": {
      "text/html": [
       "<div>\n",
       "<style scoped>\n",
       "    .dataframe tbody tr th:only-of-type {\n",
       "        vertical-align: middle;\n",
       "    }\n",
       "\n",
       "    .dataframe tbody tr th {\n",
       "        vertical-align: top;\n",
       "    }\n",
       "\n",
       "    .dataframe thead th {\n",
       "        text-align: right;\n",
       "    }\n",
       "</style>\n",
       "<table border=\"1\" class=\"dataframe\">\n",
       "  <thead>\n",
       "    <tr style=\"text-align: right;\">\n",
       "      <th></th>\n",
       "      <th>DATE</th>\n",
       "      <th>FEDMINNFRWG</th>\n",
       "      <th>month_year</th>\n",
       "    </tr>\n",
       "  </thead>\n",
       "  <tbody>\n",
       "    <tr>\n",
       "      <th>0</th>\n",
       "      <td>10/1/1938</td>\n",
       "      <td>0.25</td>\n",
       "      <td>10_1938</td>\n",
       "    </tr>\n",
       "    <tr>\n",
       "      <th>1</th>\n",
       "      <td>11/1/1938</td>\n",
       "      <td>0.25</td>\n",
       "      <td>11_1938</td>\n",
       "    </tr>\n",
       "    <tr>\n",
       "      <th>2</th>\n",
       "      <td>12/1/1938</td>\n",
       "      <td>0.25</td>\n",
       "      <td>12_1938</td>\n",
       "    </tr>\n",
       "    <tr>\n",
       "      <th>3</th>\n",
       "      <td>1/1/1939</td>\n",
       "      <td>0.25</td>\n",
       "      <td>1_1939</td>\n",
       "    </tr>\n",
       "    <tr>\n",
       "      <th>4</th>\n",
       "      <td>2/1/1939</td>\n",
       "      <td>0.25</td>\n",
       "      <td>2_1939</td>\n",
       "    </tr>\n",
       "  </tbody>\n",
       "</table>\n",
       "</div>"
      ],
      "text/plain": [
       "        DATE  FEDMINNFRWG month_year\n",
       "0  10/1/1938         0.25    10_1938\n",
       "1  11/1/1938         0.25    11_1938\n",
       "2  12/1/1938         0.25    12_1938\n",
       "3   1/1/1939         0.25     1_1939\n",
       "4   2/1/1939         0.25     2_1939"
      ]
     },
     "execution_count": 6,
     "metadata": {},
     "output_type": "execute_result"
    }
   ],
   "source": [
    "#Load the FRED minimum wage by month data\n",
    "minimum_data = pd.read_csv(\"FEDMINNFRWG.csv\")\n",
    "minimum_data.head()"
   ]
  },
  {
   "cell_type": "code",
   "execution_count": 7,
   "metadata": {},
   "outputs": [
    {
     "data": {
      "text/html": [
       "<div>\n",
       "<style scoped>\n",
       "    .dataframe tbody tr th:only-of-type {\n",
       "        vertical-align: middle;\n",
       "    }\n",
       "\n",
       "    .dataframe tbody tr th {\n",
       "        vertical-align: top;\n",
       "    }\n",
       "\n",
       "    .dataframe thead th {\n",
       "        text-align: right;\n",
       "    }\n",
       "</style>\n",
       "<table border=\"1\" class=\"dataframe\">\n",
       "  <thead>\n",
       "    <tr style=\"text-align: right;\">\n",
       "      <th></th>\n",
       "      <th>starting_year</th>\n",
       "      <th>tuition_and_fees</th>\n",
       "      <th>old_index</th>\n",
       "      <th>month_count</th>\n",
       "      <th>tuition_monthly</th>\n",
       "      <th>true_month</th>\n",
       "      <th>true_year</th>\n",
       "      <th>month_year</th>\n",
       "      <th>DATE</th>\n",
       "      <th>FEDMINNFRWG</th>\n",
       "    </tr>\n",
       "  </thead>\n",
       "  <tbody>\n",
       "    <tr>\n",
       "      <th>0</th>\n",
       "      <td>1966</td>\n",
       "      <td>302.362429</td>\n",
       "      <td>0</td>\n",
       "      <td>1</td>\n",
       "      <td>25.196869</td>\n",
       "      <td>6.0</td>\n",
       "      <td>1966.0</td>\n",
       "      <td>6_1966</td>\n",
       "      <td>6/1/1966</td>\n",
       "      <td>1.25</td>\n",
       "    </tr>\n",
       "    <tr>\n",
       "      <th>1</th>\n",
       "      <td>1966</td>\n",
       "      <td>302.362429</td>\n",
       "      <td>0</td>\n",
       "      <td>2</td>\n",
       "      <td>25.196869</td>\n",
       "      <td>7.0</td>\n",
       "      <td>1966.0</td>\n",
       "      <td>7_1966</td>\n",
       "      <td>7/1/1966</td>\n",
       "      <td>1.25</td>\n",
       "    </tr>\n",
       "    <tr>\n",
       "      <th>2</th>\n",
       "      <td>1966</td>\n",
       "      <td>302.362429</td>\n",
       "      <td>0</td>\n",
       "      <td>3</td>\n",
       "      <td>25.196869</td>\n",
       "      <td>8.0</td>\n",
       "      <td>1966.0</td>\n",
       "      <td>8_1966</td>\n",
       "      <td>8/1/1966</td>\n",
       "      <td>1.25</td>\n",
       "    </tr>\n",
       "    <tr>\n",
       "      <th>3</th>\n",
       "      <td>1966</td>\n",
       "      <td>302.362429</td>\n",
       "      <td>0</td>\n",
       "      <td>4</td>\n",
       "      <td>25.196869</td>\n",
       "      <td>9.0</td>\n",
       "      <td>1966.0</td>\n",
       "      <td>9_1966</td>\n",
       "      <td>9/1/1966</td>\n",
       "      <td>1.25</td>\n",
       "    </tr>\n",
       "    <tr>\n",
       "      <th>4</th>\n",
       "      <td>1966</td>\n",
       "      <td>302.362429</td>\n",
       "      <td>0</td>\n",
       "      <td>5</td>\n",
       "      <td>25.196869</td>\n",
       "      <td>10.0</td>\n",
       "      <td>1966.0</td>\n",
       "      <td>10_1966</td>\n",
       "      <td>10/1/1966</td>\n",
       "      <td>1.25</td>\n",
       "    </tr>\n",
       "  </tbody>\n",
       "</table>\n",
       "</div>"
      ],
      "text/plain": [
       "   starting_year  tuition_and_fees  old_index  month_count  tuition_monthly  \\\n",
       "0           1966        302.362429          0            1        25.196869   \n",
       "1           1966        302.362429          0            2        25.196869   \n",
       "2           1966        302.362429          0            3        25.196869   \n",
       "3           1966        302.362429          0            4        25.196869   \n",
       "4           1966        302.362429          0            5        25.196869   \n",
       "\n",
       "   true_month  true_year month_year       DATE  FEDMINNFRWG  \n",
       "0         6.0     1966.0     6_1966   6/1/1966         1.25  \n",
       "1         7.0     1966.0     7_1966   7/1/1966         1.25  \n",
       "2         8.0     1966.0     8_1966   8/1/1966         1.25  \n",
       "3         9.0     1966.0     9_1966   9/1/1966         1.25  \n",
       "4        10.0     1966.0    10_1966  10/1/1966         1.25  "
      ]
     },
     "execution_count": 7,
     "metadata": {},
     "output_type": "execute_result"
    }
   ],
   "source": [
    "#merge the two by the month year key\n",
    "data_months_combined = pd.merge(data_months, minimum_data, how=\"left\", on=\"month_year\")\n",
    "data_months_combined.head()"
   ]
  },
  {
   "cell_type": "code",
   "execution_count": 8,
   "metadata": {},
   "outputs": [
    {
     "data": {
      "text/html": [
       "<div>\n",
       "<style scoped>\n",
       "    .dataframe tbody tr th:only-of-type {\n",
       "        vertical-align: middle;\n",
       "    }\n",
       "\n",
       "    .dataframe tbody tr th {\n",
       "        vertical-align: top;\n",
       "    }\n",
       "\n",
       "    .dataframe thead th {\n",
       "        text-align: right;\n",
       "    }\n",
       "</style>\n",
       "<table border=\"1\" class=\"dataframe\">\n",
       "  <thead>\n",
       "    <tr style=\"text-align: right;\">\n",
       "      <th></th>\n",
       "      <th>starting_year</th>\n",
       "      <th>tuition_and_fees</th>\n",
       "      <th>old_index</th>\n",
       "      <th>month_count</th>\n",
       "      <th>tuition_monthly</th>\n",
       "      <th>true_month</th>\n",
       "      <th>true_year</th>\n",
       "      <th>month_year</th>\n",
       "      <th>DATE</th>\n",
       "      <th>FEDMINNFRWG</th>\n",
       "      <th>monthly_hours</th>\n",
       "    </tr>\n",
       "  </thead>\n",
       "  <tbody>\n",
       "    <tr>\n",
       "      <th>0</th>\n",
       "      <td>1966</td>\n",
       "      <td>302.362429</td>\n",
       "      <td>0</td>\n",
       "      <td>1</td>\n",
       "      <td>25.196869</td>\n",
       "      <td>6.0</td>\n",
       "      <td>1966.0</td>\n",
       "      <td>6_1966</td>\n",
       "      <td>6/1/1966</td>\n",
       "      <td>1.25</td>\n",
       "      <td>20.157495</td>\n",
       "    </tr>\n",
       "    <tr>\n",
       "      <th>1</th>\n",
       "      <td>1966</td>\n",
       "      <td>302.362429</td>\n",
       "      <td>0</td>\n",
       "      <td>2</td>\n",
       "      <td>25.196869</td>\n",
       "      <td>7.0</td>\n",
       "      <td>1966.0</td>\n",
       "      <td>7_1966</td>\n",
       "      <td>7/1/1966</td>\n",
       "      <td>1.25</td>\n",
       "      <td>20.157495</td>\n",
       "    </tr>\n",
       "    <tr>\n",
       "      <th>2</th>\n",
       "      <td>1966</td>\n",
       "      <td>302.362429</td>\n",
       "      <td>0</td>\n",
       "      <td>3</td>\n",
       "      <td>25.196869</td>\n",
       "      <td>8.0</td>\n",
       "      <td>1966.0</td>\n",
       "      <td>8_1966</td>\n",
       "      <td>8/1/1966</td>\n",
       "      <td>1.25</td>\n",
       "      <td>20.157495</td>\n",
       "    </tr>\n",
       "    <tr>\n",
       "      <th>3</th>\n",
       "      <td>1966</td>\n",
       "      <td>302.362429</td>\n",
       "      <td>0</td>\n",
       "      <td>4</td>\n",
       "      <td>25.196869</td>\n",
       "      <td>9.0</td>\n",
       "      <td>1966.0</td>\n",
       "      <td>9_1966</td>\n",
       "      <td>9/1/1966</td>\n",
       "      <td>1.25</td>\n",
       "      <td>20.157495</td>\n",
       "    </tr>\n",
       "    <tr>\n",
       "      <th>4</th>\n",
       "      <td>1966</td>\n",
       "      <td>302.362429</td>\n",
       "      <td>0</td>\n",
       "      <td>5</td>\n",
       "      <td>25.196869</td>\n",
       "      <td>10.0</td>\n",
       "      <td>1966.0</td>\n",
       "      <td>10_1966</td>\n",
       "      <td>10/1/1966</td>\n",
       "      <td>1.25</td>\n",
       "      <td>20.157495</td>\n",
       "    </tr>\n",
       "  </tbody>\n",
       "</table>\n",
       "</div>"
      ],
      "text/plain": [
       "   starting_year  tuition_and_fees  old_index  month_count  tuition_monthly  \\\n",
       "0           1966        302.362429          0            1        25.196869   \n",
       "1           1966        302.362429          0            2        25.196869   \n",
       "2           1966        302.362429          0            3        25.196869   \n",
       "3           1966        302.362429          0            4        25.196869   \n",
       "4           1966        302.362429          0            5        25.196869   \n",
       "\n",
       "   true_month  true_year month_year       DATE  FEDMINNFRWG  monthly_hours  \n",
       "0         6.0     1966.0     6_1966   6/1/1966         1.25      20.157495  \n",
       "1         7.0     1966.0     7_1966   7/1/1966         1.25      20.157495  \n",
       "2         8.0     1966.0     8_1966   8/1/1966         1.25      20.157495  \n",
       "3         9.0     1966.0     9_1966   9/1/1966         1.25      20.157495  \n",
       "4        10.0     1966.0    10_1966  10/1/1966         1.25      20.157495  "
      ]
     },
     "execution_count": 8,
     "metadata": {},
     "output_type": "execute_result"
    }
   ],
   "source": [
    "#Get the number of hours worked each month at the minimum wage to earn tuition for that month\n",
    "data_months_combined[\"monthly_hours\"] = data_months_combined[\"tuition_monthly\"]/data_months_combined[\"FEDMINNFRWG\"]\n",
    "data_months_combined.head()"
   ]
  },
  {
   "cell_type": "code",
   "execution_count": 9,
   "metadata": {},
   "outputs": [
    {
     "data": {
      "text/html": [
       "<div>\n",
       "<style scoped>\n",
       "    .dataframe tbody tr th:only-of-type {\n",
       "        vertical-align: middle;\n",
       "    }\n",
       "\n",
       "    .dataframe tbody tr th {\n",
       "        vertical-align: top;\n",
       "    }\n",
       "\n",
       "    .dataframe thead th {\n",
       "        text-align: right;\n",
       "    }\n",
       "</style>\n",
       "<table border=\"1\" class=\"dataframe\">\n",
       "  <thead>\n",
       "    <tr style=\"text-align: right;\">\n",
       "      <th></th>\n",
       "      <th>starting_year</th>\n",
       "      <th>tuition_and_fees</th>\n",
       "      <th>old_index</th>\n",
       "      <th>month_count</th>\n",
       "      <th>tuition_monthly</th>\n",
       "      <th>true_month</th>\n",
       "      <th>true_year</th>\n",
       "      <th>month_year</th>\n",
       "      <th>DATE</th>\n",
       "      <th>FEDMINNFRWG</th>\n",
       "      <th>monthly_hours</th>\n",
       "      <th>hours_in_last_48_months</th>\n",
       "      <th>coerced_date</th>\n",
       "    </tr>\n",
       "  </thead>\n",
       "  <tbody>\n",
       "    <tr>\n",
       "      <th>0</th>\n",
       "      <td>1966</td>\n",
       "      <td>302.362429</td>\n",
       "      <td>0</td>\n",
       "      <td>1</td>\n",
       "      <td>25.196869</td>\n",
       "      <td>6.0</td>\n",
       "      <td>1966.0</td>\n",
       "      <td>6_1966</td>\n",
       "      <td>6/1/1966</td>\n",
       "      <td>1.25</td>\n",
       "      <td>20.157495</td>\n",
       "      <td>NaN</td>\n",
       "      <td>1966-06-01</td>\n",
       "    </tr>\n",
       "    <tr>\n",
       "      <th>1</th>\n",
       "      <td>1966</td>\n",
       "      <td>302.362429</td>\n",
       "      <td>0</td>\n",
       "      <td>2</td>\n",
       "      <td>25.196869</td>\n",
       "      <td>7.0</td>\n",
       "      <td>1966.0</td>\n",
       "      <td>7_1966</td>\n",
       "      <td>7/1/1966</td>\n",
       "      <td>1.25</td>\n",
       "      <td>20.157495</td>\n",
       "      <td>NaN</td>\n",
       "      <td>1966-07-01</td>\n",
       "    </tr>\n",
       "    <tr>\n",
       "      <th>2</th>\n",
       "      <td>1966</td>\n",
       "      <td>302.362429</td>\n",
       "      <td>0</td>\n",
       "      <td>3</td>\n",
       "      <td>25.196869</td>\n",
       "      <td>8.0</td>\n",
       "      <td>1966.0</td>\n",
       "      <td>8_1966</td>\n",
       "      <td>8/1/1966</td>\n",
       "      <td>1.25</td>\n",
       "      <td>20.157495</td>\n",
       "      <td>NaN</td>\n",
       "      <td>1966-08-01</td>\n",
       "    </tr>\n",
       "    <tr>\n",
       "      <th>3</th>\n",
       "      <td>1966</td>\n",
       "      <td>302.362429</td>\n",
       "      <td>0</td>\n",
       "      <td>4</td>\n",
       "      <td>25.196869</td>\n",
       "      <td>9.0</td>\n",
       "      <td>1966.0</td>\n",
       "      <td>9_1966</td>\n",
       "      <td>9/1/1966</td>\n",
       "      <td>1.25</td>\n",
       "      <td>20.157495</td>\n",
       "      <td>NaN</td>\n",
       "      <td>1966-09-01</td>\n",
       "    </tr>\n",
       "    <tr>\n",
       "      <th>4</th>\n",
       "      <td>1966</td>\n",
       "      <td>302.362429</td>\n",
       "      <td>0</td>\n",
       "      <td>5</td>\n",
       "      <td>25.196869</td>\n",
       "      <td>10.0</td>\n",
       "      <td>1966.0</td>\n",
       "      <td>10_1966</td>\n",
       "      <td>10/1/1966</td>\n",
       "      <td>1.25</td>\n",
       "      <td>20.157495</td>\n",
       "      <td>NaN</td>\n",
       "      <td>1966-10-01</td>\n",
       "    </tr>\n",
       "  </tbody>\n",
       "</table>\n",
       "</div>"
      ],
      "text/plain": [
       "   starting_year  tuition_and_fees  old_index  month_count  tuition_monthly  \\\n",
       "0           1966        302.362429          0            1        25.196869   \n",
       "1           1966        302.362429          0            2        25.196869   \n",
       "2           1966        302.362429          0            3        25.196869   \n",
       "3           1966        302.362429          0            4        25.196869   \n",
       "4           1966        302.362429          0            5        25.196869   \n",
       "\n",
       "   true_month  true_year month_year       DATE  FEDMINNFRWG  monthly_hours  \\\n",
       "0         6.0     1966.0     6_1966   6/1/1966         1.25      20.157495   \n",
       "1         7.0     1966.0     7_1966   7/1/1966         1.25      20.157495   \n",
       "2         8.0     1966.0     8_1966   8/1/1966         1.25      20.157495   \n",
       "3         9.0     1966.0     9_1966   9/1/1966         1.25      20.157495   \n",
       "4        10.0     1966.0    10_1966  10/1/1966         1.25      20.157495   \n",
       "\n",
       "   hours_in_last_48_months coerced_date  \n",
       "0                      NaN   1966-06-01  \n",
       "1                      NaN   1966-07-01  \n",
       "2                      NaN   1966-08-01  \n",
       "3                      NaN   1966-09-01  \n",
       "4                      NaN   1966-10-01  "
      ]
     },
     "execution_count": 9,
     "metadata": {},
     "output_type": "execute_result"
    }
   ],
   "source": [
    "#Get the trailing sum of 48 months worth of hours worked\n",
    "data_months_combined[\"hours_in_last_48_months\"] = data_months_combined[\"monthly_hours\"].rolling(48, min_periods=48).sum()\n",
    "#Add a coerced date column for charting\n",
    "data_months_combined[\"coerced_date\"] = pd.to_datetime(data_months_combined['DATE'], errors = 'coerce')\n",
    "data_months_combined.head()"
   ]
  },
  {
   "cell_type": "code",
   "execution_count": 10,
   "metadata": {},
   "outputs": [],
   "source": [
    "#export\n",
    "data_months_combined.to_csv(\"running_monthly.csv\")"
   ]
  },
  {
   "cell_type": "code",
   "execution_count": 11,
   "metadata": {},
   "outputs": [
    {
     "data": {
      "image/png": "[encoded data removed]",
      "text/plain": [
       "<Figure size 432x288 with 1 Axes>"
      ]
     },
     "metadata": {
      "needs_background": "light"
     },
     "output_type": "display_data"
    }
   ],
   "source": [
    "#plot all data\n",
    "plot = data_months_combined[['coerced_date','hours_in_last_48_months']].set_index('coerced_date').plot()\n",
    "plot.set(ylim=(0, None))\n",
    "plot.set(xlim=(datetime.date(1965, 1, 1), datetime.date(2019, 1, 1)))\n",
    "plt.savefig(\"running_monthly.svg\")"
   ]
  },
  {
   "cell_type": "code",
   "execution_count": 12,
   "metadata": {},
   "outputs": [
    {
     "data": {
      "text/plain": [
       "131    1083.637091\n",
       "Name: hours_in_last_48_months, dtype: float64"
      ]
     },
     "execution_count": 12,
     "metadata": {},
     "output_type": "execute_result"
    }
   ],
   "source": [
    "data_months_combined[data_months_combined[\"starting_year\"] == 1976][\"hours_in_last_48_months\"].tail(1)"
   ]
  },
  {
   "cell_type": "code",
   "execution_count": 13,
   "metadata": {},
   "outputs": [
    {
     "data": {
      "text/plain": [
       "143    1036.980846\n",
       "Name: hours_in_last_48_months, dtype: float64"
      ]
     },
     "execution_count": 13,
     "metadata": {},
     "output_type": "execute_result"
    }
   ],
   "source": [
    "data_months_combined[data_months_combined[\"starting_year\"] == 1977][\"hours_in_last_48_months\"].tail(1)"
   ]
  },
  {
   "cell_type": "code",
   "execution_count": 14,
   "metadata": {},
   "outputs": [
    {
     "data": {
      "text/plain": [
       "491    4005.871123\n",
       "Name: hours_in_last_48_months, dtype: float64"
      ]
     },
     "execution_count": 14,
     "metadata": {},
     "output_type": "execute_result"
    }
   ],
   "source": [
    "data_months_combined[data_months_combined[\"starting_year\"] == 2006][\"hours_in_last_48_months\"].tail(1)"
   ]
  },
  {
   "cell_type": "code",
   "execution_count": 15,
   "metadata": {},
   "outputs": [
    {
     "data": {
      "text/plain": [
       "611    4750.070528\n",
       "Name: hours_in_last_48_months, dtype: float64"
      ]
     },
     "execution_count": 15,
     "metadata": {},
     "output_type": "execute_result"
    }
   ],
   "source": [
    "data_months_combined[data_months_combined[\"starting_year\"] == 2016][\"hours_in_last_48_months\"].tail(1)"
   ]
  },
  {
   "cell_type": "code",
   "execution_count": 16,
   "metadata": {},
   "outputs": [
    {
     "data": {
      "text/plain": [
       "618    4808.418967\n",
       "Name: hours_in_last_48_months, dtype: float64"
      ]
     },
     "execution_count": 16,
     "metadata": {},
     "output_type": "execute_result"
    }
   ],
   "source": [
    "data_months_combined[data_months_combined[\"starting_year\"] == 2017][\"hours_in_last_48_months\"].tail(1)"
   ]
  },
  {
   "cell_type": "markdown",
   "metadata": {},
   "source": [
    "Note: The final numbers for universities and all institutions differ significantly from the ones reported by the huffington post -- I have emailed Michael Hobbes to ask for additional information about methodology and sourcing to determine where the discrepancies are coming from (April 22, 2019) "
   ]
  },
  {
   "cell_type": "markdown",
   "metadata": {},
   "source": [
    "FOR OTHER GRAPHICS\n",
    "see: https://docs.google.com/document/d/1VOMr9mZ1Zl2S44gDeMhCabi_p7FxBBqwyigdDTGewuE/edit?usp=sharing"
   ]
  },
  {
   "cell_type": "code",
   "execution_count": 21,
   "metadata": {},
   "outputs": [
    {
     "data": {
      "text/html": [
       "<div>\n",
       "<style scoped>\n",
       "    .dataframe tbody tr th:only-of-type {\n",
       "        vertical-align: middle;\n",
       "    }\n",
       "\n",
       "    .dataframe tbody tr th {\n",
       "        vertical-align: top;\n",
       "    }\n",
       "\n",
       "    .dataframe thead th {\n",
       "        text-align: right;\n",
       "    }\n",
       "</style>\n",
       "<table border=\"1\" class=\"dataframe\">\n",
       "  <thead>\n",
       "    <tr style=\"text-align: right;\">\n",
       "      <th></th>\n",
       "      <th>starting_year</th>\n",
       "      <th>tuition_and_fees</th>\n",
       "      <th>tuition_and_fees_indexed</th>\n",
       "    </tr>\n",
       "  </thead>\n",
       "  <tbody>\n",
       "    <tr>\n",
       "      <th>0</th>\n",
       "      <td>1966</td>\n",
       "      <td>2279.186441</td>\n",
       "      <td>100.000000</td>\n",
       "    </tr>\n",
       "    <tr>\n",
       "      <th>1</th>\n",
       "      <td>1967</td>\n",
       "      <td>2262.336201</td>\n",
       "      <td>99.260691</td>\n",
       "    </tr>\n",
       "    <tr>\n",
       "      <th>2</th>\n",
       "      <td>1968</td>\n",
       "      <td>2233.129562</td>\n",
       "      <td>97.979240</td>\n",
       "    </tr>\n",
       "    <tr>\n",
       "      <th>3</th>\n",
       "      <td>1969</td>\n",
       "      <td>2353.862367</td>\n",
       "      <td>103.276429</td>\n",
       "    </tr>\n",
       "    <tr>\n",
       "      <th>4</th>\n",
       "      <td>1970</td>\n",
       "      <td>2459.014907</td>\n",
       "      <td>107.890029</td>\n",
       "    </tr>\n",
       "  </tbody>\n",
       "</table>\n",
       "</div>"
      ],
      "text/plain": [
       "   starting_year  tuition_and_fees  tuition_and_fees_indexed\n",
       "0           1966       2279.186441                100.000000\n",
       "1           1967       2262.336201                 99.260691\n",
       "2           1968       2233.129562                 97.979240\n",
       "3           1969       2353.862367                103.276429\n",
       "4           1970       2459.014907                107.890029"
      ]
     },
     "execution_count": 21,
     "metadata": {},
     "output_type": "execute_result"
    }
   ],
   "source": [
    "inflation_tuition = pd.read_excel(\"4-year_public_tuition_INFLATION_ADJUSTED.xlsx\")\n",
    "inflation_tuition[\"tuition_and_fees_indexed\"] = 100* (inflation_tuition[\"tuition_and_fees\"] / inflation_tuition[\"tuition_and_fees\"].iloc[0])\n",
    "inflation_tuition.head()"
   ]
  },
  {
   "cell_type": "code",
   "execution_count": 22,
   "metadata": {},
   "outputs": [
    {
     "data": {
      "image/png": "[encoded data removed]",
      "text/plain": [
       "<Figure size 432x288 with 1 Axes>"
      ]
     },
     "metadata": {
      "needs_background": "light"
     },
     "output_type": "display_data"
    }
   ],
   "source": [
    "plot = inflation_tuition[['starting_year','tuition_and_fees_indexed']].set_index('starting_year').plot()\n",
    "plot.set(ylim=(0, None))\n",
    "plot.set(xlim=(1965, 2017))\n",
    "plt.savefig(\"inflation_adjust_tuition.svg\")"
   ]
  },
  {
   "cell_type": "code",
   "execution_count": 19,
   "metadata": {},
   "outputs": [
    {
     "data": {
      "text/html": [
       "<div>\n",
       "<style scoped>\n",
       "    .dataframe tbody tr th:only-of-type {\n",
       "        vertical-align: middle;\n",
       "    }\n",
       "\n",
       "    .dataframe tbody tr th {\n",
       "        vertical-align: top;\n",
       "    }\n",
       "\n",
       "    .dataframe thead th {\n",
       "        text-align: right;\n",
       "    }\n",
       "</style>\n",
       "<table border=\"1\" class=\"dataframe\">\n",
       "  <thead>\n",
       "    <tr style=\"text-align: right;\">\n",
       "      <th></th>\n",
       "      <th>date</th>\n",
       "      <th>min_wage</th>\n",
       "      <th>coerced_date</th>\n",
       "    </tr>\n",
       "  </thead>\n",
       "  <tbody>\n",
       "    <tr>\n",
       "      <th>0</th>\n",
       "      <td>1966-01-01</td>\n",
       "      <td>9.876059</td>\n",
       "      <td>1966-01-01</td>\n",
       "    </tr>\n",
       "    <tr>\n",
       "      <th>1</th>\n",
       "      <td>1966-02-01</td>\n",
       "      <td>9.814490</td>\n",
       "      <td>1966-02-01</td>\n",
       "    </tr>\n",
       "    <tr>\n",
       "      <th>2</th>\n",
       "      <td>1966-03-01</td>\n",
       "      <td>9.783985</td>\n",
       "      <td>1966-03-01</td>\n",
       "    </tr>\n",
       "    <tr>\n",
       "      <th>3</th>\n",
       "      <td>1966-04-01</td>\n",
       "      <td>9.753677</td>\n",
       "      <td>1966-04-01</td>\n",
       "    </tr>\n",
       "    <tr>\n",
       "      <th>4</th>\n",
       "      <td>1966-05-01</td>\n",
       "      <td>9.732572</td>\n",
       "      <td>1966-05-01</td>\n",
       "    </tr>\n",
       "  </tbody>\n",
       "</table>\n",
       "</div>"
      ],
      "text/plain": [
       "        date  min_wage coerced_date\n",
       "0 1966-01-01  9.876059   1966-01-01\n",
       "1 1966-02-01  9.814490   1966-02-01\n",
       "2 1966-03-01  9.783985   1966-03-01\n",
       "3 1966-04-01  9.753677   1966-04-01\n",
       "4 1966-05-01  9.732572   1966-05-01"
      ]
     },
     "execution_count": 19,
     "metadata": {},
     "output_type": "execute_result"
    }
   ],
   "source": [
    "inflation_mins = pd.read_excel(\"min_wage_INFLATION_ADJUSTED.xlsx\")\n",
    "inflation_mins[\"coerced_date\"] = pd.to_datetime(inflation_mins['date'], errors = 'coerce')\n",
    "inflation_mins[\"min_wage_index\"] = 100* (inflation_mins[\"min_wage\"] / inflation_mins[\"min_wage\"].iloc[0])\n",
    "inflation_mins.head()"
   ]
  },
  {
   "cell_type": "code",
   "execution_count": 20,
   "metadata": {},
   "outputs": [
    {
     "data": {
      "image/png": "[encoded data removed]",
      "text/plain": [
       "<Figure size 432x288 with 1 Axes>"
      ]
     },
     "metadata": {
      "needs_background": "light"
     },
     "output_type": "display_data"
    }
   ],
   "source": [
    "\n",
    "plot2 = inflation_mins[['coerced_date','min_wage_indexed']].set_index('coerced_date').plot()\n",
    "plot2.set(ylim=(0, None))\n",
    "plot2.set(xlim=(datetime.date(1965, 1, 1), datetime.date(2018, 6, 1)))\n",
    "plt.savefig(\"inflation_adjust_min.svg\")"
   ]
  },
  {
   "cell_type": "code",
   "execution_count": null,
   "metadata": {},
   "outputs": [],
   "source": []
  }
 ],
 "metadata": {
  "kernelspec": {
   "display_name": "venv",
   "language": "python",
   "name": "venv"
  },
  "language_info": {
   "codemirror_mode": {
    "name": "ipython",
    "version": 2
   },
   "file_extension": ".py",
   "mimetype": "text/x-python",
   "name": "python",
   "nbconvert_exporter": "python",
   "pygments_lexer": "ipython2",
   "version": "2.7.10"
  }
 },
 "nbformat": 4,
 "nbformat_minor": 2
}
